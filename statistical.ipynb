{
 "cells": [
  {
   "cell_type": "code",
   "execution_count": 1,
   "metadata": {},
   "outputs": [],
   "source": [
    "import pandas as pd \n",
    "from scipy.stats import ttest_ind, norm, stats, shapiro, boxcox\n",
    "import numpy as np\n",
    "import matplotlib.pyplot as plt\n",
    "import seaborn as sns\n",
    "import scipy"
   ]
  },
  {
   "cell_type": "code",
   "execution_count": 2,
   "metadata": {},
   "outputs": [],
   "source": [
    "value = {\n",
    "    'height': [178,166,145,256,222,134,138,139,190,777,187,185,182],\n",
    "    'weight': [180,170,154,188,169,154,133,154,205,1111,321,157,180],\n",
    "    'age': [22,65,32,15,48,15,66,49,35,84,13,666,81]\n",
    "}\n"
   ]
  },
  {
   "cell_type": "code",
   "execution_count": 3,
   "metadata": {},
   "outputs": [
    {
     "data": {
      "text/html": [
       "<div>\n",
       "<style scoped>\n",
       "    .dataframe tbody tr th:only-of-type {\n",
       "        vertical-align: middle;\n",
       "    }\n",
       "\n",
       "    .dataframe tbody tr th {\n",
       "        vertical-align: top;\n",
       "    }\n",
       "\n",
       "    .dataframe thead th {\n",
       "        text-align: right;\n",
       "    }\n",
       "</style>\n",
       "<table border=\"1\" class=\"dataframe\">\n",
       "  <thead>\n",
       "    <tr style=\"text-align: right;\">\n",
       "      <th></th>\n",
       "      <th>height</th>\n",
       "      <th>weight</th>\n",
       "      <th>age</th>\n",
       "    </tr>\n",
       "  </thead>\n",
       "  <tbody>\n",
       "    <tr>\n",
       "      <th>count</th>\n",
       "      <td>13.000000</td>\n",
       "      <td>13.000000</td>\n",
       "      <td>13.000000</td>\n",
       "    </tr>\n",
       "    <tr>\n",
       "      <th>mean</th>\n",
       "      <td>223.000000</td>\n",
       "      <td>252.000000</td>\n",
       "      <td>91.615385</td>\n",
       "    </tr>\n",
       "    <tr>\n",
       "      <th>std</th>\n",
       "      <td>170.067634</td>\n",
       "      <td>262.190452</td>\n",
       "      <td>174.331360</td>\n",
       "    </tr>\n",
       "    <tr>\n",
       "      <th>min</th>\n",
       "      <td>134.000000</td>\n",
       "      <td>133.000000</td>\n",
       "      <td>13.000000</td>\n",
       "    </tr>\n",
       "    <tr>\n",
       "      <th>25%</th>\n",
       "      <td>145.000000</td>\n",
       "      <td>154.000000</td>\n",
       "      <td>22.000000</td>\n",
       "    </tr>\n",
       "    <tr>\n",
       "      <th>50%</th>\n",
       "      <td>182.000000</td>\n",
       "      <td>170.000000</td>\n",
       "      <td>48.000000</td>\n",
       "    </tr>\n",
       "    <tr>\n",
       "      <th>75%</th>\n",
       "      <td>190.000000</td>\n",
       "      <td>188.000000</td>\n",
       "      <td>66.000000</td>\n",
       "    </tr>\n",
       "    <tr>\n",
       "      <th>max</th>\n",
       "      <td>777.000000</td>\n",
       "      <td>1111.000000</td>\n",
       "      <td>666.000000</td>\n",
       "    </tr>\n",
       "  </tbody>\n",
       "</table>\n",
       "</div>"
      ],
      "text/plain": [
       "           height       weight         age\n",
       "count   13.000000    13.000000   13.000000\n",
       "mean   223.000000   252.000000   91.615385\n",
       "std    170.067634   262.190452  174.331360\n",
       "min    134.000000   133.000000   13.000000\n",
       "25%    145.000000   154.000000   22.000000\n",
       "50%    182.000000   170.000000   48.000000\n",
       "75%    190.000000   188.000000   66.000000\n",
       "max    777.000000  1111.000000  666.000000"
      ]
     },
     "execution_count": 3,
     "metadata": {},
     "output_type": "execute_result"
    }
   ],
   "source": [
    "df = pd.DataFrame(value)\n",
    "df.describe()"
   ]
  },
  {
   "cell_type": "code",
   "execution_count": 4,
   "metadata": {},
   "outputs": [
    {
     "name": "stdout",
     "output_type": "stream",
     "text": [
      "height mean: 223.00\n",
      "height standard: 170.07\n",
      "height median: 182.0000\n"
     ]
    }
   ],
   "source": [
    "h_mean = df['height'].mean()\n",
    "h_std = df['height'].std()\n",
    "h_median = df['height'].median()\n",
    "\n",
    "print(f\"height mean: {h_mean:.2f}\")\n",
    "print(f\"height standard: {h_std:.2f}\")\n",
    "print(f\"height median: {h_median:.4f}\")"
   ]
  },
  {
   "cell_type": "code",
   "execution_count": 5,
   "metadata": {},
   "outputs": [
    {
     "name": "stdout",
     "output_type": "stream",
     "text": [
      "probability 180: 0.40\n",
      "probability 200: 0.45\n",
      "probability between 180 and 200 : 0.05\n"
     ]
    }
   ],
   "source": [
    "#CDF: culumative distribution function\n",
    "p_180 = norm.cdf(180, loc = h_mean, scale = h_std)\n",
    "p_200 = norm.cdf(200, loc = h_mean, scale = h_std)\n",
    "\n",
    "p_bet = p_200 - p_180 \n",
    "\n",
    "print(f\"probability 180: {p_180:.2f}\")\n",
    "print(f\"probability 200: {p_200:.2f}\")\n",
    "print(f\"probability between 180 and 200 : {p_bet:.2f}\")"
   ]
  },
  {
   "cell_type": "code",
   "execution_count": 6,
   "metadata": {},
   "outputs": [
    {
     "name": "stdout",
     "output_type": "stream",
     "text": [
      "0.002271990597339538 0.002271990597339538\n"
     ]
    }
   ],
   "source": [
    "#PDF: probability Density Function\n",
    "pdf_180 = norm.pdf(180, loc = h_mean, scale = h_std)\n",
    "pro_180_range = pdf_180 * 1.0\n",
    "\n",
    "print(pdf_180 , pro_180_range)"
   ]
  },
  {
   "cell_type": "code",
   "execution_count": 7,
   "metadata": {},
   "outputs": [
    {
     "name": "stdout",
     "output_type": "stream",
     "text": [
      "correlation between height and weight : 0.976\n"
     ]
    }
   ],
   "source": [
    "#Correlation\n",
    "correlation = df['height'].corr(df['weight'])\n",
    "print(f\"correlation between height and weight : {correlation:.3f}\")\n"
   ]
  },
  {
   "cell_type": "code",
   "execution_count": 8,
   "metadata": {},
   "outputs": [],
   "source": [
    "#Boxplot\n",
    "q1 = df.quantile(0.25)\n",
    "q3 = df.quantile(0.75)\n",
    "iqr = q3 - q1 \n",
    "low = q1 - 1.5*iqr \n",
    "upper = q3 + 1.5*iqr \n",
    "\n",
    "outliers = ((df < low) | (df > upper)).any(axis = 1)\n",
    "\n",
    "num_outliers = outliers.sum()\n"
   ]
  },
  {
   "cell_type": "code",
   "execution_count": 9,
   "metadata": {},
   "outputs": [
    {
     "data": {
      "image/png": "[encoded data removed]",
      "text/plain": [
       "<Figure size 1000x500 with 1 Axes>"
      ]
     },
     "metadata": {},
     "output_type": "display_data"
    },
    {
     "name": "stdout",
     "output_type": "stream",
     "text": [
      "3\n"
     ]
    }
   ],
   "source": [
    "plt.figure(figsize=(10,5))\n",
    "df.boxplot()\n",
    "plt.title('Boxplot of height and weight')\n",
    "plt.grid(True)\n",
    "plt.show()\n",
    "print(num_outliers)"
   ]
  },
  {
   "cell_type": "code",
   "execution_count": 10,
   "metadata": {},
   "outputs": [
    {
     "data": {
      "image/png": "[encoded data removed]",
      "text/plain": [
       "<Figure size 1000x500 with 2 Axes>"
      ]
     },
     "metadata": {},
     "output_type": "display_data"
    }
   ],
   "source": [
    "plt.figure(figsize=(10,5))\n",
    "sns.heatmap(df.corr(), annot = True, cmap = 'coolwarm', fmt = \".2f\")\n",
    "plt.title('correltation matrix')\n",
    "plt.show()"
   ]
  },
  {
   "cell_type": "code",
   "execution_count": 11,
   "metadata": {},
   "outputs": [
    {
     "name": "stdout",
     "output_type": "stream",
     "text": [
      "t-test: 6.5677, p-value: 0.0000\n"
     ]
    }
   ],
   "source": [
    "#Hypothesis testing\n",
    "\n",
    "group1 = np.random.normal(175,10,50) # team1\n",
    "group2 = np.random.normal(160,10,50) # team2\n",
    "\n",
    "t_stat, p_value = ttest_ind(group1,group2)\n",
    "print(f\"t-test: {t_stat:.4f}, p-value: {p_value:.4f}\")"
   ]
  },
  {
   "cell_type": "code",
   "execution_count": 12,
   "metadata": {},
   "outputs": [
    {
     "name": "stdout",
     "output_type": "stream",
     "text": [
      "shapiro - wilk test: stat = 0.4942, p-value = 0.000\n"
     ]
    }
   ],
   "source": [
    "stat, p = shapiro(df['height'])\n",
    "print(f\"shapiro - wilk test: stat = {stat:.4f}, p-value = {p:.3f}\")"
   ]
  },
  {
   "cell_type": "code",
   "execution_count": 13,
   "metadata": {},
   "outputs": [
    {
     "data": {
      "image/png": "[encoded data removed]",
      "text/plain": [
       "<Figure size 640x480 with 1 Axes>"
      ]
     },
     "metadata": {},
     "output_type": "display_data"
    }
   ],
   "source": [
    "df['height'].hist(bins = 20, color = 'green' , alpha = 0.7)\n",
    "plt.xlabel('height')\n",
    "plt.ylabel('frequency')\n",
    "plt.title('height distribution')\n",
    "plt.show()"
   ]
  },
  {
   "cell_type": "code",
   "execution_count": 14,
   "metadata": {},
   "outputs": [
    {
     "name": "stdout",
     "output_type": "stream",
     "text": [
      "optimal lambda: -1.9302\n"
     ]
    }
   ],
   "source": [
    "#transformation to box-cox\n",
    "df['height_transformed'] , best_lambda = boxcox(df['height']+1)\n",
    "print(f\"optimal lambda: {best_lambda:.4f}\")"
   ]
  },
  {
   "cell_type": "code",
   "execution_count": 15,
   "metadata": {},
   "outputs": [
    {
     "data": {
      "text/html": [
       "<div>\n",
       "<style scoped>\n",
       "    .dataframe tbody tr th:only-of-type {\n",
       "        vertical-align: middle;\n",
       "    }\n",
       "\n",
       "    .dataframe tbody tr th {\n",
       "        vertical-align: top;\n",
       "    }\n",
       "\n",
       "    .dataframe thead th {\n",
       "        text-align: right;\n",
       "    }\n",
       "</style>\n",
       "<table border=\"1\" class=\"dataframe\">\n",
       "  <thead>\n",
       "    <tr style=\"text-align: right;\">\n",
       "      <th></th>\n",
       "      <th>height</th>\n",
       "      <th>weight</th>\n",
       "      <th>age</th>\n",
       "      <th>height_transformed</th>\n",
       "      <th>rolling_mean</th>\n",
       "    </tr>\n",
       "  </thead>\n",
       "  <tbody>\n",
       "    <tr>\n",
       "      <th>0</th>\n",
       "      <td>178</td>\n",
       "      <td>180</td>\n",
       "      <td>22</td>\n",
       "      <td>0.518067</td>\n",
       "      <td>NaN</td>\n",
       "    </tr>\n",
       "    <tr>\n",
       "      <th>1</th>\n",
       "      <td>166</td>\n",
       "      <td>170</td>\n",
       "      <td>65</td>\n",
       "      <td>0.518063</td>\n",
       "      <td>NaN</td>\n",
       "    </tr>\n",
       "    <tr>\n",
       "      <th>2</th>\n",
       "      <td>145</td>\n",
       "      <td>154</td>\n",
       "      <td>32</td>\n",
       "      <td>0.518055</td>\n",
       "      <td>NaN</td>\n",
       "    </tr>\n",
       "    <tr>\n",
       "      <th>3</th>\n",
       "      <td>256</td>\n",
       "      <td>188</td>\n",
       "      <td>15</td>\n",
       "      <td>0.518078</td>\n",
       "      <td>186.25</td>\n",
       "    </tr>\n",
       "    <tr>\n",
       "      <th>4</th>\n",
       "      <td>222</td>\n",
       "      <td>169</td>\n",
       "      <td>48</td>\n",
       "      <td>0.518075</td>\n",
       "      <td>197.25</td>\n",
       "    </tr>\n",
       "    <tr>\n",
       "      <th>5</th>\n",
       "      <td>134</td>\n",
       "      <td>154</td>\n",
       "      <td>15</td>\n",
       "      <td>0.518050</td>\n",
       "      <td>189.25</td>\n",
       "    </tr>\n",
       "    <tr>\n",
       "      <th>6</th>\n",
       "      <td>138</td>\n",
       "      <td>133</td>\n",
       "      <td>66</td>\n",
       "      <td>0.518052</td>\n",
       "      <td>187.50</td>\n",
       "    </tr>\n",
       "    <tr>\n",
       "      <th>7</th>\n",
       "      <td>139</td>\n",
       "      <td>154</td>\n",
       "      <td>49</td>\n",
       "      <td>0.518053</td>\n",
       "      <td>158.25</td>\n",
       "    </tr>\n",
       "    <tr>\n",
       "      <th>8</th>\n",
       "      <td>190</td>\n",
       "      <td>205</td>\n",
       "      <td>35</td>\n",
       "      <td>0.518069</td>\n",
       "      <td>150.25</td>\n",
       "    </tr>\n",
       "    <tr>\n",
       "      <th>9</th>\n",
       "      <td>777</td>\n",
       "      <td>1111</td>\n",
       "      <td>84</td>\n",
       "      <td>0.518088</td>\n",
       "      <td>311.00</td>\n",
       "    </tr>\n",
       "    <tr>\n",
       "      <th>10</th>\n",
       "      <td>187</td>\n",
       "      <td>321</td>\n",
       "      <td>13</td>\n",
       "      <td>0.518069</td>\n",
       "      <td>323.25</td>\n",
       "    </tr>\n",
       "    <tr>\n",
       "      <th>11</th>\n",
       "      <td>185</td>\n",
       "      <td>157</td>\n",
       "      <td>666</td>\n",
       "      <td>0.518068</td>\n",
       "      <td>334.75</td>\n",
       "    </tr>\n",
       "    <tr>\n",
       "      <th>12</th>\n",
       "      <td>182</td>\n",
       "      <td>180</td>\n",
       "      <td>81</td>\n",
       "      <td>0.518068</td>\n",
       "      <td>332.75</td>\n",
       "    </tr>\n",
       "  </tbody>\n",
       "</table>\n",
       "</div>"
      ],
      "text/plain": [
       "    height  weight  age  height_transformed  rolling_mean\n",
       "0      178     180   22            0.518067           NaN\n",
       "1      166     170   65            0.518063           NaN\n",
       "2      145     154   32            0.518055           NaN\n",
       "3      256     188   15            0.518078        186.25\n",
       "4      222     169   48            0.518075        197.25\n",
       "5      134     154   15            0.518050        189.25\n",
       "6      138     133   66            0.518052        187.50\n",
       "7      139     154   49            0.518053        158.25\n",
       "8      190     205   35            0.518069        150.25\n",
       "9      777    1111   84            0.518088        311.00\n",
       "10     187     321   13            0.518069        323.25\n",
       "11     185     157  666            0.518068        334.75\n",
       "12     182     180   81            0.518068        332.75"
      ]
     },
     "execution_count": 15,
     "metadata": {},
     "output_type": "execute_result"
    }
   ],
   "source": [
    "# Moving Average\n",
    "df['rolling_mean'] = df['height'].rolling(window=4).mean()\n",
    "df"
   ]
  },
  {
   "cell_type": "code",
   "execution_count": 19,
   "metadata": {},
   "outputs": [
    {
     "data": {
      "text/plain": [
       "{'conversion rate a': 0.0738,\n",
       " 'conversion rate b': 0.1038,\n",
       " 'z_score': np.float64(5.280591659482915),\n",
       " 'p-value': np.float64(1.2876738542111354e-07)}"
      ]
     },
     "execution_count": 19,
     "metadata": {},
     "output_type": "execute_result"
    }
   ],
   "source": [
    "#A/B testing\n",
    "np.random.seed(55)\n",
    "conversion_rate_a = 0.08 #rate as 8%\n",
    "sample_size_a = 5000\n",
    "conversions_a = np.random.binomial(sample_size_a, conversion_rate_a)\n",
    "\n",
    "\n",
    "conversion_rate_b = 0.1 #rate as 10%\n",
    "sample_size_b = 5000\n",
    "conversions_b = np.random.binomial(sample_size_b , conversion_rate_b)\n",
    "\n",
    "pa = conversions_a / sample_size_a\n",
    "pb = conversions_b / sample_size_b\n",
    "\n",
    "se_a = np.sqrt(pa* (1-pa) / sample_size_a)\n",
    "se_b = np.sqrt(pb* (1-pb) / sample_size_b)\n",
    "\n",
    "z_score = (pb-pa)/np.sqrt(se_a ** 2 + se_b ** 2)\n",
    "p_value = 2 * (1 - norm.cdf(abs(z_score)))\n",
    "\n",
    "result = {\n",
    "    \"conversion rate a\" : pa, \n",
    "    \"conversion rate b\" : pb,\n",
    "    \"z_score\": z_score,\n",
    "    \"p-value\": p_value\n",
    "}\n",
    "\n",
    "result"
   ]
  },
  {
   "cell_type": "code",
   "execution_count": null,
   "metadata": {},
   "outputs": [
    {
     "name": "stdout",
     "output_type": "stream",
     "text": [
      "p-value: 0.0000\n"
     ]
    }
   ],
   "source": []
  },
  {
   "cell_type": "code",
   "execution_count": null,
   "metadata": {},
   "outputs": [],
   "source": []
  }
 ],
 "metadata": {
  "kernelspec": {
   "display_name": "Python 3",
   "language": "python",
   "name": "python3"
  },
  "language_info": {
   "codemirror_mode": {
    "name": "ipython",
    "version": 3
   },
   "file_extension": ".py",
   "mimetype": "text/x-python",
   "name": "python",
   "nbconvert_exporter": "python",
   "pygments_lexer": "ipython3",
   "version": "3.11.9"
  }
 },
 "nbformat": 4,
 "nbformat_minor": 2
}
